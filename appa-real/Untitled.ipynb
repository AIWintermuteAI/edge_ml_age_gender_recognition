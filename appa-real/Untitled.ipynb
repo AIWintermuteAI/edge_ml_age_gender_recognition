{
 "cells": [
  {
   "cell_type": "code",
   "execution_count": 1,
   "metadata": {},
   "outputs": [
    {
     "name": "stdout",
     "output_type": "stream",
     "text": [
      "                                             image  gender  age    db  \\\n",
      "0      01/nm0000001_rm946909184_1899-5-10_1968.jpg       1   69  imdb   \n",
      "1      01/nm0000001_rm980463616_1899-5-10_1968.jpg       1   69  imdb   \n",
      "2     02/nm0000002_rm1346607872_1924-9-16_2004.jpg       0   79  imdb   \n",
      "3     02/nm0000002_rm1363385088_1924-9-16_2004.jpg       0   79  imdb   \n",
      "4      02/nm0000002_rm221957120_1924-9-16_1974.jpg       0   49  imdb   \n",
      "...                                            ...     ...  ...   ...   \n",
      "6394   83/nm0998183_rm2262142464_2000-4-3_2009.jpg       0    9  imdb   \n",
      "6395  09/nm1993409_rm2282592768_1997-8-19_2006.jpg       1    8  imdb   \n",
      "6396  09/nm1993409_rm2534251008_1997-8-19_2006.jpg       1    8  imdb   \n",
      "6397  80/nm1997480_rm2141819392_1998-1-12_2006.jpg       1    8  imdb   \n",
      "6398  20/nm2996220_rm1158317824_2000-7-29_2010.jpg       1    9  imdb   \n",
      "\n",
      "      min_score  \n",
      "0           1.0  \n",
      "1           1.0  \n",
      "2           1.0  \n",
      "3           1.0  \n",
      "4           1.0  \n",
      "...         ...  \n",
      "6394        1.0  \n",
      "6395        1.0  \n",
      "6396        1.0  \n",
      "6397        1.0  \n",
      "6398        1.0  \n",
      "\n",
      "[6399 rows x 5 columns]\n"
     ]
    }
   ],
   "source": [
    "%matplotlib inline\n",
    "from pathlib import Path\n",
    "import pandas as pd\n",
    "import matplotlib.pyplot as plt\n",
    "import os\n",
    "\n",
    "root_path = Path(\"\")\n",
    "validation_csv_path = root_path.joinpath(\"imdb.csv\")\n",
    "validation_df = pd.read_csv(validation_csv_path)\n",
    "\n",
    "print(validation_df)"
   ]
  },
  {
   "cell_type": "code",
   "execution_count": 3,
   "metadata": {},
   "outputs": [
    {
     "name": "stdout",
     "output_type": "stream",
     "text": [
      "45/nm0000045_rm998223872_1940-11-27_1973.jpg\n",
      "79/nm0000079_rm2391776000_1940-9-5_2000.jpg\n",
      "84/nm0000084_rm3838351616_1965-12-31_2002.jpg\n",
      "93/nm0000093_rm73636608_1963-12-18_2001.jpg\n",
      "97/nm0000097_rm3015219968_1967-7-1_2003.jpg\n",
      "98/nm0000098_rm4054094848_1969-2-11_2006.jpg\n",
      "99/nm0000099_rm1079613952_1968-4-8_1998.jpg\n",
      "99/nm0000099_rm3610413568_1968-4-8_2005.jpg\n",
      "99/nm0000099_rm3645152000_1968-4-8_1998.jpg\n",
      "99/nm0000099_rm3812291072_1968-4-8_2015.jpg\n",
      "02/nm0000102_rm3601701120_1958-7-8_2003.jpg\n",
      "04/nm0000104_rm3951728640_1960-8-10_1999.jpg\n",
      "07/nm0000107_rm1259707136_1953-12-8_2002.jpg\n",
      "13/nm0000113_rm2066674944_1964-7-26_2015.jpg\n",
      "13/nm0000113_rm3456745216_1964-7-26_2011.jpg\n",
      "15/nm0000115_rm3114831104_1964-1-7_2010.jpg\n",
      "23/nm0000123_rm3420582912_1961-5-6_2015.jpg\n",
      "25/nm0000125_rm1489669120_1930-8-25_2003.jpg\n",
      "26/nm0000126_rm2719783424_1955-1-18_2007.jpg\n",
      "26/nm0000126_rm3803886848_1955-1-18_2012.jpg\n",
      "28/nm0000128_rm3948148224_1964-4-7_2014.jpg\n",
      "32/nm0000132_rm664836096_1979-4-12_1997.jpg\n",
      "34/nm0000134_rm3421414912_1943-8-17_2013.jpg\n",
      "42/nm0000142_rm1567422464_1930-5-31_2014.jpg\n",
      "48/nm0000148_rm4248476160_1942-7-13_2006.jpg\n",
      "51/nm0000151_rm2478222080_1937-6-1_2012.jpg\n",
      "07/nm0000207_rm1414175232_1980-2-12_1999.jpg\n",
      "01/nm0000301_rm1344067072_1982-3-11_1991.jpg\n",
      "01/nm0000301_rm3081476864_1982-3-11_2002.jpg\n",
      "79/nm0000379_rm4285046272_1982-4-30_2002.jpg\n",
      "39/nm0000439_rm1149224960_1973-6-15_1989.jpg\n",
      "07/nm0000507_rm2186645248_1964-3-17_1983.jpg\n",
      "45/nm0000545_rm4274291456_1945-7-26_2010.jpg\n",
      "73/nm0000573_rm2254090240_1946-1-19_2012.jpg\n",
      "03/nm0000603_rm3611921664_1937-1-30_2010.jpg\n",
      "37/nm0000737_rm2311161856_1939-10-28_2009.jpg\n",
      "37/nm0000737_rm2536478720_1939-10-28_2007.jpg\n",
      "56/nm0000956_rm1954465792_1967-11-16_1987.jpg\n",
      "96/nm0000996_rm606646272_1957-2-16_1977.jpg\n",
      "85/nm0001085_rm149789440_1982-9-30_2002.jpg\n",
      "26/nm0001326_rm4240087040_1978-7-21_1993.jpg\n",
      "17/nm0004917_rm278317312_1969-5-12_1979.jpg\n",
      "57/nm0005157_rm3310983936_1989-3-5_1999.jpg\n",
      "99/nm0101799_rm2535823872_1993-3-4_2002.jpg\n",
      "77/nm1102577_rm3706292992_1998-4-9_2008.jpg\n",
      "89/nm0427489_rm101620480_1993-10-8_2004.jpg\n",
      "89/nm0427489_rm1020565504_1993-10-8_2001.jpg\n",
      "84/nm0566084_rm1619958528_1992-9-28_2002.jpg\n",
      "41/nm0171041_rm3314981376_1968-2-8_1978.jpg\n",
      "76/nm0095176_rm3430598656_1981-12-3_1982.jpg\n"
     ]
    }
   ],
   "source": [
    "imgs = os.listdir(\"imgs_validation\")\n",
    "\n",
    "img_list = []\n",
    "gender_list = []\n",
    "age_list = []\n",
    "\n",
    "for i, img_path in validation_df.iterrows():\n",
    "    for j in imgs:\n",
    "        if j[2:] in img_path['image']:\n",
    "            print(img_path['image'])\n",
    "            img_list.append(j)\n",
    "            if img_path['gender'] == 0:\n",
    "                gender_list.append('female')\n",
    "            else:\n",
    "                gender_list.append('male')\n",
    "            age_list.append(img_path['age'])\n",
    "            \n",
    "output = {\"image\": img_list, \"gender\": gender_list, \"age\": age_list}\n",
    "df = pd.DataFrame.from_dict(output)\n",
    "df.to_csv('valid.csv', index = False)"
   ]
  },
  {
   "cell_type": "code",
   "execution_count": null,
   "metadata": {},
   "outputs": [],
   "source": []
  }
 ],
 "metadata": {
  "kernelspec": {
   "display_name": "Python 3",
   "language": "python",
   "name": "python3"
  },
  "language_info": {
   "codemirror_mode": {
    "name": "ipython",
    "version": 3
   },
   "file_extension": ".py",
   "mimetype": "text/x-python",
   "name": "python",
   "nbconvert_exporter": "python",
   "pygments_lexer": "ipython3",
   "version": "3.7.7"
  }
 },
 "nbformat": 4,
 "nbformat_minor": 4
}
