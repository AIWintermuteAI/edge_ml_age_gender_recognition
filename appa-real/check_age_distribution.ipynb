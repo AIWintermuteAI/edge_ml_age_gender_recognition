{
 "cells": [
  {
   "cell_type": "code",
   "execution_count": 7,
   "metadata": {},
   "outputs": [],
   "source": [
    "%matplotlib inline\n",
    "from pathlib import Path\n",
    "import pandas as pd\n",
    "import matplotlib.pyplot as plt\n",
    "\n",
    "root_path = Path(\"\")\n",
    "train_csv_path = root_path.joinpath(\"allcategories_train.csv\")\n",
    "train_df = pd.read_csv(train_csv_path)\n",
    "valid_csv_path = root_path.joinpath(\"allcategories_valid.csv\")\n",
    "valid_df = pd.read_csv(valid_csv_path)\n",
    "test_csv_path = root_path.joinpath(\"allcategories_test.csv\")\n",
    "test_df = pd.read_csv(test_csv_path)\n",
    "\n",
    "new_df = pd.read_csv('all_imgs.csv')"
   ]
  },
  {
   "cell_type": "code",
   "execution_count": 8,
   "metadata": {},
   "outputs": [
    {
     "data": {
      "image/png": "[encoded data removed]",
      "text/plain": [
       "<Figure size 432x288 with 1 Axes>"
      ]
     },
     "metadata": {
      "needs_background": "light"
     },
     "output_type": "display_data"
    }
   ],
   "source": [
    "_ = plt.hist(new_df[\"age\"], range(100))"
   ]
  },
  {
   "cell_type": "code",
   "execution_count": 4,
   "metadata": {},
   "outputs": [
    {
     "name": "stdout",
     "output_type": "stream",
     "text": [
      "            file  gender       race      makeup         time      happiness\n",
      "0     000000.jpg    male  caucasian    nomakeup  modernphoto        neutral\n",
      "1     000001.jpg  female  caucasian  verysubtle  modernphoto        neutral\n",
      "2     000002.jpg  female  caucasian    notclear  modernphoto  slightlyhappy\n",
      "3     000003.jpg  female  caucasian  verysubtle  modernphoto          happy\n",
      "4     000004.jpg  female  caucasian      makeup  modernphoto  slightlyhappy\n",
      "...          ...     ...        ...         ...          ...            ...\n",
      "4108  004108.jpg    male  caucasian    nomakeup  modernphoto          happy\n",
      "4109  004109.jpg    male  caucasian    nomakeup  modernphoto          happy\n",
      "4110  004110.jpg    male  caucasian    nomakeup  modernphoto        neutral\n",
      "4111  004111.jpg    male  caucasian    nomakeup  modernphoto        neutral\n",
      "4112  004112.jpg  female  caucasian  verysubtle  modernphoto          happy\n",
      "\n",
      "[4113 rows x 6 columns]\n"
     ]
    }
   ],
   "source": [
    "print(train_df)"
   ]
  },
  {
   "cell_type": "code",
   "execution_count": 6,
   "metadata": {},
   "outputs": [
    {
     "name": "stdout",
     "output_type": "stream",
     "text": [
      "            file  gender          race      makeup         time      happiness\n",
      "0     004113.jpg    male  afroamerican    nomakeup  modernphoto          happy\n",
      "1     004114.jpg    male     caucasian    nomakeup  modernphoto          other\n",
      "2     004115.jpg    male     caucasian    nomakeup  modernphoto  slightlyhappy\n",
      "3     004116.jpg  female     caucasian  verysubtle  modernphoto          happy\n",
      "4     004117.jpg  female     caucasian  verysubtle  modernphoto          happy\n",
      "...          ...     ...           ...         ...          ...            ...\n",
      "1495  005608.jpg  female     caucasian  verysubtle  modernphoto  slightlyhappy\n",
      "1496  005609.jpg  female     caucasian    nomakeup  modernphoto          other\n",
      "1497  005610.jpg    male  afroamerican  verysubtle  modernphoto  slightlyhappy\n",
      "1498  005611.jpg  female     caucasian    nomakeup  modernphoto  slightlyhappy\n",
      "1499  005612.jpg  female     caucasian      makeup  modernphoto  slightlyhappy\n",
      "\n",
      "[1500 rows x 6 columns]\n"
     ]
    }
   ],
   "source": [
    "print(valid_df)"
   ]
  },
  {
   "cell_type": "code",
   "execution_count": 7,
   "metadata": {},
   "outputs": [
    {
     "name": "stdout",
     "output_type": "stream",
     "text": [
      "            file  gender       race      makeup         time      happiness\n",
      "0     005613.jpg  female  caucasian    notclear     oldphoto        neutral\n",
      "1     005614.jpg    male      asian    nomakeup  modernphoto  slightlyhappy\n",
      "2     005615.jpg    male      asian    nomakeup  modernphoto          happy\n",
      "3     005616.jpg    male  caucasian  verysubtle  modernphoto        neutral\n",
      "4     005617.jpg  female  caucasian  verysubtle  modernphoto        neutral\n",
      "...          ...     ...        ...         ...          ...            ...\n",
      "1973  007608.jpg    male  caucasian    nomakeup  modernphoto  slightlyhappy\n",
      "1974  007609.jpg    male  caucasian    nomakeup     oldphoto          other\n",
      "1975  007610.jpg  female  caucasian      makeup     oldphoto  slightlyhappy\n",
      "1976  007611.jpg  female  caucasian      makeup  modernphoto  slightlyhappy\n",
      "1977  007612.jpg    male  caucasian    nomakeup     oldphoto          other\n",
      "\n",
      "[1978 rows x 6 columns]\n"
     ]
    }
   ],
   "source": [
    "print(test_df)"
   ]
  },
  {
   "cell_type": "code",
   "execution_count": 9,
   "metadata": {},
   "outputs": [
    {
     "name": "stdout",
     "output_type": "stream",
     "text": [
      "       file_name  real_age\n",
      "0     000000.jpg         4\n",
      "1     000001.jpg        18\n",
      "2     000002.jpg        80\n",
      "3     000003.jpg        50\n",
      "4     000004.jpg        17\n",
      "...          ...       ...\n",
      "7586  007608.jpg        14\n",
      "7587  007609.jpg        37\n",
      "7588  007610.jpg        28\n",
      "7589  007611.jpg        20\n",
      "7590  007612.jpg        47\n",
      "\n",
      "[7591 rows x 2 columns]\n"
     ]
    }
   ],
   "source": [
    "age_csv_path = root_path.joinpath(\"labels.csv\")\n",
    "age_df = pd.read_csv(age_csv_path)\n",
    "print(age_df)"
   ]
  },
  {
   "cell_type": "code",
   "execution_count": 12,
   "metadata": {},
   "outputs": [
    {
     "name": "stdout",
     "output_type": "stream",
     "text": [
      "            file  gender       race      makeup         time      happiness\n",
      "0     000000.jpg    male  caucasian    nomakeup  modernphoto        neutral\n",
      "1     000001.jpg  female  caucasian  verysubtle  modernphoto        neutral\n",
      "2     000002.jpg  female  caucasian    notclear  modernphoto  slightlyhappy\n",
      "3     000003.jpg  female  caucasian  verysubtle  modernphoto          happy\n",
      "4     000004.jpg  female  caucasian      makeup  modernphoto  slightlyhappy\n",
      "...          ...     ...        ...         ...          ...            ...\n",
      "1973  007608.jpg    male  caucasian    nomakeup  modernphoto  slightlyhappy\n",
      "1974  007609.jpg    male  caucasian    nomakeup     oldphoto          other\n",
      "1975  007610.jpg  female  caucasian      makeup     oldphoto  slightlyhappy\n",
      "1976  007611.jpg  female  caucasian      makeup  modernphoto  slightlyhappy\n",
      "1977  007612.jpg    male  caucasian    nomakeup     oldphoto          other\n",
      "\n",
      "[7591 rows x 6 columns]\n"
     ]
    }
   ],
   "source": [
    "frames = [train_df, valid_df, test_df]\n",
    "big_df = pd.concat(frames)\n",
    "print(big_df)"
   ]
  },
  {
   "cell_type": "code",
   "execution_count": 15,
   "metadata": {},
   "outputs": [
    {
     "name": "stdout",
     "output_type": "stream",
     "text": [
      "            file  gender       race      makeup         time      happiness  \\\n",
      "0     000000.jpg    male  caucasian    nomakeup  modernphoto        neutral   \n",
      "1     000001.jpg  female  caucasian  verysubtle  modernphoto        neutral   \n",
      "2     000002.jpg  female  caucasian    notclear  modernphoto  slightlyhappy   \n",
      "3     000003.jpg  female  caucasian  verysubtle  modernphoto          happy   \n",
      "4     000004.jpg  female  caucasian      makeup  modernphoto  slightlyhappy   \n",
      "...          ...     ...        ...         ...          ...            ...   \n",
      "1973  007608.jpg    male  caucasian    nomakeup  modernphoto  slightlyhappy   \n",
      "1974  007609.jpg    male  caucasian    nomakeup     oldphoto          other   \n",
      "1975  007610.jpg  female  caucasian      makeup     oldphoto  slightlyhappy   \n",
      "1976  007611.jpg  female  caucasian      makeup  modernphoto  slightlyhappy   \n",
      "1977  007612.jpg    male  caucasian    nomakeup     oldphoto          other   \n",
      "\n",
      "      age  \n",
      "0       4  \n",
      "1      18  \n",
      "2      80  \n",
      "3      50  \n",
      "4      17  \n",
      "...   ...  \n",
      "1973   14  \n",
      "1974   37  \n",
      "1975   28  \n",
      "1976   20  \n",
      "1977   47  \n",
      "\n",
      "[7591 rows x 7 columns]\n"
     ]
    }
   ],
   "source": [
    "big_df['age'] = age_df['real_age'].to_numpy()\n",
    "print(big_df)"
   ]
  },
  {
   "cell_type": "code",
   "execution_count": 16,
   "metadata": {},
   "outputs": [],
   "source": [
    "big_df.to_csv('all_imgs.csv', index = False)"
   ]
  },
  {
   "cell_type": "code",
   "execution_count": null,
   "metadata": {},
   "outputs": [],
   "source": []
  }
 ],
 "metadata": {
  "kernelspec": {
   "display_name": "Python 3",
   "language": "python",
   "name": "python3"
  },
  "language_info": {
   "codemirror_mode": {
    "name": "ipython",
    "version": 3
   },
   "file_extension": ".py",
   "mimetype": "text/x-python",
   "name": "python",
   "nbconvert_exporter": "python",
   "pygments_lexer": "ipython3",
   "version": "3.7.7"
  }
 },
 "nbformat": 4,
 "nbformat_minor": 1
}
